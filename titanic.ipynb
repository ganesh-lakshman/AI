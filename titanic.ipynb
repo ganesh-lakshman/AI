{
  "nbformat": 4,
  "nbformat_minor": 0,
  "metadata": {
    "colab": {
      "name": "titanic.ipynb",
      "provenance": [],
      "collapsed_sections": [],
      "authorship_tag": "ABX9TyN4BbIv6vL9RFIHUVhuAbxQ",
      "include_colab_link": true
    },
    "kernelspec": {
      "name": "python3",
      "display_name": "Python 3"
    },
    "language_info": {
      "name": "python"
    }
  },
  "cells": [
    {
      "cell_type": "markdown",
      "metadata": {
        "id": "view-in-github",
        "colab_type": "text"
      },
      "source": [
        "<a href=\"https://colab.research.google.com/github/ganesh-lakshman/AI/blob/main/titanic.ipynb\" target=\"_parent\"><img src=\"https://colab.research.google.com/assets/colab-badge.svg\" alt=\"Open In Colab\"/></a>"
      ]
    },
    {
      "cell_type": "code",
      "execution_count": null,
      "metadata": {
        "colab": {
          "base_uri": "https://localhost:8080/"
        },
        "id": "lO846CAUqmYh",
        "outputId": "bdf18cfa-6868-4c3f-89d4-4c0e19d73709"
      },
      "outputs": [
        {
          "output_type": "stream",
          "name": "stdout",
          "text": [
            "   PassengerId  Survived  Pclass  \\\n",
            "0            1         0       3   \n",
            "1            2         1       1   \n",
            "2            3         1       3   \n",
            "3            4         1       1   \n",
            "4            5         0       3   \n",
            "\n",
            "                                                Name     Sex   Age  SibSp  \\\n",
            "0                            Braund, Mr. Owen Harris    male  22.0      1   \n",
            "1  Cumings, Mrs. John Bradley (Florence Briggs Th...  female  38.0      1   \n",
            "2                             Heikkinen, Miss. Laina  female  26.0      0   \n",
            "3       Futrelle, Mrs. Jacques Heath (Lily May Peel)  female  35.0      1   \n",
            "4                           Allen, Mr. William Henry    male  35.0      0   \n",
            "\n",
            "   Parch            Ticket     Fare Cabin Embarked  \n",
            "0      0         A/5 21171   7.2500   NaN        S  \n",
            "1      0          PC 17599  71.2833   C85        C  \n",
            "2      0  STON/O2. 3101282   7.9250   NaN        S  \n",
            "3      0            113803  53.1000  C123        S  \n",
            "4      0            373450   8.0500   NaN        S  \n"
          ]
        }
      ],
      "source": [
        "# https://www.kaggle.com/c/titanic/data\n",
        "\n",
        "# Determine the data type of each column.\n",
        "\n",
        "import pandas as pd\n",
        "import numpy as np\n",
        "\n",
        "\n",
        "#we need to read the data\n",
        "data = pd.read_csv(\"https://raw.githubusercontent.com/naveenjoshii/Intro-to-MachineLearning/master/Titanic/titanic.csv\")\n",
        "#print top 5 rows \n",
        "print(data.head())"
      ]
    },
    {
      "cell_type": "code",
      "source": [
        "# a. Determine the data type of each column.\n",
        "\n",
        "# to get the datatype of all columns we can use Dataframe.dtypes\n",
        "print(data.dtypes)"
      ],
      "metadata": {
        "colab": {
          "base_uri": "https://localhost:8080/"
        },
        "id": "672a00bptn_2",
        "outputId": "dd16b6ee-7038-46c9-ac28-825613400002"
      },
      "execution_count": null,
      "outputs": [
        {
          "output_type": "stream",
          "name": "stdout",
          "text": [
            "PassengerId      int64\n",
            "Survived         int64\n",
            "Pclass           int64\n",
            "Name            object\n",
            "Sex             object\n",
            "Age            float64\n",
            "SibSp            int64\n",
            "Parch            int64\n",
            "Ticket          object\n",
            "Fare           float64\n",
            "Cabin           object\n",
            "Embarked        object\n",
            "dtype: object\n"
          ]
        }
      ]
    },
    {
      "cell_type": "code",
      "source": [
        "# b. Find the number of non-null values in each column.\n",
        "# Dataframe.info() gives all information about every column in our dataset\n",
        "data.info()"
      ],
      "metadata": {
        "colab": {
          "base_uri": "https://localhost:8080/"
        },
        "id": "gak7rT3PtqSa",
        "outputId": "168f7101-3477-4093-b2b1-7966a04b4eed"
      },
      "execution_count": null,
      "outputs": [
        {
          "output_type": "stream",
          "name": "stdout",
          "text": [
            "<class 'pandas.core.frame.DataFrame'>\n",
            "RangeIndex: 891 entries, 0 to 890\n",
            "Data columns (total 12 columns):\n",
            " #   Column       Non-Null Count  Dtype  \n",
            "---  ------       --------------  -----  \n",
            " 0   PassengerId  891 non-null    int64  \n",
            " 1   Survived     891 non-null    int64  \n",
            " 2   Pclass       891 non-null    int64  \n",
            " 3   Name         891 non-null    object \n",
            " 4   Sex          891 non-null    object \n",
            " 5   Age          714 non-null    float64\n",
            " 6   SibSp        891 non-null    int64  \n",
            " 7   Parch        891 non-null    int64  \n",
            " 8   Ticket       891 non-null    object \n",
            " 9   Fare         891 non-null    float64\n",
            " 10  Cabin        204 non-null    object \n",
            " 11  Embarked     889 non-null    object \n",
            "dtypes: float64(2), int64(5), object(5)\n",
            "memory usage: 83.7+ KB\n"
          ]
        }
      ]
    },
    {
      "cell_type": "code",
      "source": [
        "c = data.select_dtypes(include=[\"int64\"])\n",
        "print(type(data))"
      ],
      "metadata": {
        "colab": {
          "base_uri": "https://localhost:8080/"
        },
        "id": "kKSEdw80u4K5",
        "outputId": "5730172e-e9ac-4a17-cdda-94b878e9005e"
      },
      "execution_count": null,
      "outputs": [
        {
          "output_type": "stream",
          "name": "stdout",
          "text": [
            "<class 'pandas.core.frame.DataFrame'>\n"
          ]
        }
      ]
    },
    {
      "cell_type": "code",
      "source": [
        "# c. Find out the unique values in each categorical column and frequency of each unique\n",
        "# value.\n",
        "# categorical is nothing but the datatype which is other than numerical datatype or repetetive data (i.e int,float etc).\n",
        "# to get the all categorical columns, we can use Dataframe.select_dtypes and we have to specify which \n",
        "#datatype we required. \n",
        "# In our case it would be \"object\" datatype\n",
        "categorical_cols  = data.select_dtypes(include=['object']).columns.tolist()\n",
        "print(\"Categorical columns are : \",categorical_cols)\n",
        "print(\"printing the results\")\n",
        "for i in categorical_cols:\n",
        "  print()\n",
        "  print()\n",
        "  print(\"==========  Column '\"+i+\"' =============\")\n",
        "  print(data[i].value_counts())\n"
      ],
      "metadata": {
        "colab": {
          "base_uri": "https://localhost:8080/"
        },
        "id": "rtxk-sT9trjt",
        "outputId": "e7de2a91-88f6-4258-d2ea-4e42adfd26fc"
      },
      "execution_count": null,
      "outputs": [
        {
          "output_type": "stream",
          "name": "stdout",
          "text": [
            "Categorical columns are :  ['Name', 'Sex', 'Ticket', 'Cabin', 'Embarked']\n",
            "printing the results\n",
            "\n",
            "\n",
            "==========  Column 'Name' =============\n",
            "Braund, Mr. Owen Harris                     1\n",
            "Boulos, Mr. Hanna                           1\n",
            "Frolicher-Stehli, Mr. Maxmillian            1\n",
            "Gilinski, Mr. Eliezer                       1\n",
            "Murdlin, Mr. Joseph                         1\n",
            "                                           ..\n",
            "Kelly, Miss. Anna Katherine \"Annie Kate\"    1\n",
            "McCoy, Mr. Bernard                          1\n",
            "Johnson, Mr. William Cahoone Jr             1\n",
            "Keane, Miss. Nora A                         1\n",
            "Dooley, Mr. Patrick                         1\n",
            "Name: Name, Length: 891, dtype: int64\n",
            "\n",
            "\n",
            "==========  Column 'Sex' =============\n",
            "male      577\n",
            "female    314\n",
            "Name: Sex, dtype: int64\n",
            "\n",
            "\n",
            "==========  Column 'Ticket' =============\n",
            "347082      7\n",
            "CA. 2343    7\n",
            "1601        7\n",
            "3101295     6\n",
            "CA 2144     6\n",
            "           ..\n",
            "9234        1\n",
            "19988       1\n",
            "2693        1\n",
            "PC 17612    1\n",
            "370376      1\n",
            "Name: Ticket, Length: 681, dtype: int64\n",
            "\n",
            "\n",
            "==========  Column 'Cabin' =============\n",
            "B96 B98        4\n",
            "G6             4\n",
            "C23 C25 C27    4\n",
            "C22 C26        3\n",
            "F33            3\n",
            "              ..\n",
            "E34            1\n",
            "C7             1\n",
            "C54            1\n",
            "E36            1\n",
            "C148           1\n",
            "Name: Cabin, Length: 147, dtype: int64\n",
            "\n",
            "\n",
            "==========  Column 'Embarked' =============\n",
            "S    644\n",
            "C    168\n",
            "Q     77\n",
            "Name: Embarked, dtype: int64\n"
          ]
        }
      ]
    },
    {
      "cell_type": "code",
      "source": [
        "# d. Find the number of rows where age is greater than the mean age of data.\n",
        "\n",
        "# to get mean of age column\n",
        "age_mean = data['Age'].mean()\n",
        "print(\"Mean of Age is : \",age_mean)\n",
        "print(\"printing the result\")\n",
        "print(np.sum(data['Age']>age_mean))"
      ],
      "metadata": {
        "colab": {
          "base_uri": "https://localhost:8080/"
        },
        "id": "cEwEx6cntsyH",
        "outputId": "863d220a-cd8f-4fd0-9ef6-30ec05197b96"
      },
      "execution_count": null,
      "outputs": [
        {
          "output_type": "stream",
          "name": "stdout",
          "text": [
            "Mean of Age is :  29.69911764705882\n",
            "printing the result\n",
            "330\n"
          ]
        }
      ]
    },
    {
      "cell_type": "code",
      "source": [
        "# e. Delete all the rows with missing values. \n",
        "\n",
        "print(\"length of dataframe before deleting rows with missing values\",len(data))\n",
        "# deletes the rows where at least one element is missing\n",
        "data.dropna(inplace=True)\n",
        "print(\"length of dataframe after the deletion of missing value rows\",len(data))\n",
        "\n",
        "data =  pd.read_csv(\"https://raw.githubusercontent.com/naveenjoshii/Intro-to-MachineLearning/master/Titanic/titanic.csv\")\n"
      ],
      "metadata": {
        "colab": {
          "base_uri": "https://localhost:8080/"
        },
        "id": "g97883oGtvXO",
        "outputId": "ac2a1631-de59-44d6-e0d5-f34df1b3b23d"
      },
      "execution_count": null,
      "outputs": [
        {
          "output_type": "stream",
          "name": "stdout",
          "text": [
            "length of dataframe before deleting rows with missing values 183\n",
            "length of dataframe after the deletion of missing value rows 183\n"
          ]
        }
      ]
    },
    {
      "cell_type": "markdown",
      "source": [
        "**Perform Data Analysis on the Titanic Data**"
      ],
      "metadata": {
        "id": "kYryverKxcy0"
      }
    },
    {
      "cell_type": "code",
      "source": [
        "import seaborn as sns\n",
        "import matplotlib.pyplot as plt"
      ],
      "metadata": {
        "id": "ef5ANCbkxyFW"
      },
      "execution_count": null,
      "outputs": []
    },
    {
      "cell_type": "code",
      "source": [
        "# Impact of each column on the label\n",
        "# plotting the correlation using heatmap\n",
        "sns.heatmap(data.corr(),cmap='coolwarm',xticklabels=True,annot=True)\n",
        "plt.title('data.corr()')"
      ],
      "metadata": {
        "colab": {
          "base_uri": "https://localhost:8080/",
          "height": 349
        },
        "id": "hgD7ZW28xhnG",
        "outputId": "3de1f445-e718-4947-fd26-77abdef86ed7"
      },
      "execution_count": null,
      "outputs": [
        {
          "output_type": "execute_result",
          "data": {
            "text/plain": [
              "Text(0.5, 1.0, 'data.corr()')"
            ]
          },
          "metadata": {},
          "execution_count": 29
        },
        {
          "output_type": "display_data",
          "data": {
            "text/plain": [
              "<Figure size 432x288 with 2 Axes>"
            ],
            "image/png": "[encoded data removed]"
          },
          "metadata": {
            "needs_background": "light"
          }
        }
      ]
    },
    {
      "cell_type": "code",
      "source": [
        "# Number of survivals in each gender\n",
        "\n",
        "sns.set_style('whitegrid')\n",
        "sns.countplot(x='Survived',hue='Sex',data=data,palette='colorblind')"
      ],
      "metadata": {
        "colab": {
          "base_uri": "https://localhost:8080/",
          "height": 296
        },
        "id": "jhhwwIqmyTy6",
        "outputId": "8cdecaa0-2b37-42a5-9b6f-ea6c56b5e178"
      },
      "execution_count": null,
      "outputs": [
        {
          "output_type": "execute_result",
          "data": {
            "text/plain": [
              "<matplotlib.axes._subplots.AxesSubplot at 0x7f31d0362c50>"
            ]
          },
          "metadata": {},
          "execution_count": 30
        },
        {
          "output_type": "display_data",
          "data": {
            "text/plain": [
              "<Figure size 432x288 with 1 Axes>"
            ],
            "image/png": "[encoded data removed]"
          },
          "metadata": {}
        }
      ]
    },
    {
      "cell_type": "code",
      "source": [
        "# Number of survivals in each passenger class\n",
        "#plotting count plot for no of survivals in each class\n",
        "sns.set_style('whitegrid')\n",
        "sns.countplot(x='Survived',hue='Pclass',data=data,palette='bright')"
      ],
      "metadata": {
        "colab": {
          "base_uri": "https://localhost:8080/",
          "height": 296
        },
        "id": "8SbLtXtYyjDO",
        "outputId": "e54c0fe3-419b-46a3-8169-247c15ed21c9"
      },
      "execution_count": null,
      "outputs": [
        {
          "output_type": "execute_result",
          "data": {
            "text/plain": [
              "<matplotlib.axes._subplots.AxesSubplot at 0x7f31d2ca0b90>"
            ]
          },
          "metadata": {},
          "execution_count": 33
        },
        {
          "output_type": "display_data",
          "data": {
            "text/plain": [
              "<Figure size 432x288 with 1 Axes>"
            ],
            "image/png": "[encoded data removed]"
          },
          "metadata": {}
        }
      ]
    },
    {
      "cell_type": "code",
      "source": [
        "# The number of people who are not alone.\n",
        "# count plot for who has siblings/spouse\n",
        "sns.countplot(x = 'SibSp', data = data,)"
      ],
      "metadata": {
        "colab": {
          "base_uri": "https://localhost:8080/",
          "height": 296
        },
        "id": "aW1GNJY3yuaN",
        "outputId": "c0d5fb61-8fc6-4c61-881a-e5c13ce9fd58"
      },
      "execution_count": null,
      "outputs": [
        {
          "output_type": "execute_result",
          "data": {
            "text/plain": [
              "<matplotlib.axes._subplots.AxesSubplot at 0x7f31d2cc6390>"
            ]
          },
          "metadata": {},
          "execution_count": 34
        },
        {
          "output_type": "display_data",
          "data": {
            "text/plain": [
              "<Figure size 432x288 with 1 Axes>"
            ],
            "image/png": "[encoded data removed]"
          },
          "metadata": {}
        }
      ]
    },
    {
      "cell_type": "markdown",
      "source": [
        "**Perform Data Analysis on the California House Price data to answer the following**"
      ],
      "metadata": {
        "id": "Gux_LV8SzzBS"
      }
    },
    {
      "cell_type": "code",
      "source": [
        "#we need to read the data\n",
        "data = pd.read_csv(\"https://raw.githubusercontent.com/ageron/handson-ml/master/datasets/housing/housing.csv\")\n",
        "#print top 5 rows \n",
        "print(data.head())"
      ],
      "metadata": {
        "colab": {
          "base_uri": "https://localhost:8080/"
        },
        "id": "rKPPSUQAz01v",
        "outputId": "5b21afec-8bfb-4dab-9c96-707bdab74e1c"
      },
      "execution_count": null,
      "outputs": [
        {
          "output_type": "stream",
          "name": "stdout",
          "text": [
            "   longitude  latitude  housing_median_age  total_rooms  total_bedrooms  \\\n",
            "0    -122.23     37.88                41.0        880.0           129.0   \n",
            "1    -122.22     37.86                21.0       7099.0          1106.0   \n",
            "2    -122.24     37.85                52.0       1467.0           190.0   \n",
            "3    -122.25     37.85                52.0       1274.0           235.0   \n",
            "4    -122.25     37.85                52.0       1627.0           280.0   \n",
            "\n",
            "   population  households  median_income  median_house_value ocean_proximity  \n",
            "0       322.0       126.0         8.3252            452600.0        NEAR BAY  \n",
            "1      2401.0      1138.0         8.3014            358500.0        NEAR BAY  \n",
            "2       496.0       177.0         7.2574            352100.0        NEAR BAY  \n",
            "3       558.0       219.0         5.6431            341300.0        NEAR BAY  \n",
            "4       565.0       259.0         3.8462            342200.0        NEAR BAY  \n"
          ]
        }
      ]
    },
    {
      "cell_type": "code",
      "source": [
        "# The average age of a house in the data set.\n",
        "# printing average age of house\n",
        "print(data['housing_median_age'].mean())"
      ],
      "metadata": {
        "colab": {
          "base_uri": "https://localhost:8080/"
        },
        "id": "eRjKPCF80dUE",
        "outputId": "0dbaf085-713a-4d35-bb98-65f92237fa47"
      },
      "execution_count": null,
      "outputs": [
        {
          "output_type": "stream",
          "name": "stdout",
          "text": [
            "28.639486434108527\n"
          ]
        }
      ]
    },
    {
      "cell_type": "code",
      "source": [
        "# Determines top 10 localities with the high difference between income and house value. Also, top 10 localities that have the lowest difference\n",
        "\n",
        "#calculating the difference btw House value and income and adding new column 'diff_income_and_house_value' with difference values\n",
        "data['diff_income_and_house_value'] = data['median_house_value'] - data['median_income']\n",
        "# sorting the whole dataframe by the difference value in descending order\n",
        "data.sort_values(by='diff_income_and_house_value', ascending=False,inplace=True)\n",
        "#printing the top 10 localities with highest difference\n",
        "print(\"the top 10 localities with highest difference\")\n",
        "print(data['ocean_proximity'].head(10))\n",
        "#printing the top 10 localities with lowest difference\n",
        "print(\"the top 10 localities with lowest difference\")\n",
        "print(data['ocean_proximity'].tail(10))\n",
        "# print(data['longitude'].head(10))\n",
        "# print(data.head(10)) since data already sorted according to difference\n",
        "\n"
      ],
      "metadata": {
        "colab": {
          "base_uri": "https://localhost:8080/"
        },
        "id": "OGA7gF5N0gbU",
        "outputId": "21a1d7a6-c1db-4108-8f80-a17f46c073b4"
      },
      "execution_count": null,
      "outputs": [
        {
          "output_type": "stream",
          "name": "stdout",
          "text": [
            "the top 10 localities with highest difference\n",
            "4861      <1H OCEAN\n",
            "6688         INLAND\n",
            "16642    NEAR OCEAN\n",
            "15661      NEAR BAY\n",
            "15652      NEAR BAY\n",
            "6639      <1H OCEAN\n",
            "459        NEAR BAY\n",
            "89         NEAR BAY\n",
            "10448     <1H OCEAN\n",
            "17819     <1H OCEAN\n",
            "Name: ocean_proximity, dtype: object\n",
            "the top 10 localities with lowest difference\n",
            "2779         INLAND\n",
            "16186        INLAND\n",
            "14326    NEAR OCEAN\n",
            "1825       NEAR BAY\n",
            "13889        INLAND\n",
            "5887      <1H OCEAN\n",
            "19802        INLAND\n",
            "2521         INLAND\n",
            "2799         INLAND\n",
            "9188         INLAND\n",
            "Name: ocean_proximity, dtype: object\n",
            "4861     500000.5001\n",
            "6688     500000.5001\n",
            "16642    500000.2975\n",
            "15661    500000.1457\n",
            "15652    500000.1000\n",
            "6639     499999.8333\n",
            "459      499999.8304\n",
            "89       499999.7566\n",
            "10448    499999.3607\n",
            "17819    499999.2639\n",
            "Name: diff_income_and_house_value, dtype: float64\n"
          ]
        }
      ]
    },
    {
      "cell_type": "code",
      "source": [
        "# What is the ratio of bedrooms to total rooms in the data\n",
        "\n",
        "# total no of rooms\n",
        "total_rooms = data['total_rooms'].sum()\n",
        "# total number of bedrooms\n",
        "total_bedrooms = data['total_bedrooms'].sum()\n",
        "#printing the ratio of bedrooms to total rooms\n",
        "print(total_rooms//total_bedrooms)"
      ],
      "metadata": {
        "colab": {
          "base_uri": "https://localhost:8080/"
        },
        "id": "gNs_ms6C0php",
        "outputId": "3a04b31c-9739-4139-819e-9f5485e7cdf5"
      },
      "execution_count": null,
      "outputs": [
        {
          "output_type": "stream",
          "name": "stdout",
          "text": [
            "4.0\n"
          ]
        }
      ]
    },
    {
      "cell_type": "code",
      "source": [
        "#  Determine the average price of a house for each type of ocean_proximity.\n",
        "# average house price for each ocean_proximity type\n",
        "data.groupby('ocean_proximity')['median_house_value'].median()"
      ],
      "metadata": {
        "colab": {
          "base_uri": "https://localhost:8080/"
        },
        "id": "FOLzTyPu02g2",
        "outputId": "6de86647-31c3-4919-cf3d-f2f5d7ef7ad0"
      },
      "execution_count": null,
      "outputs": [
        {
          "output_type": "execute_result",
          "data": {
            "text/plain": [
              "ocean_proximity\n",
              "<1H OCEAN     214850.0\n",
              "INLAND        108500.0\n",
              "ISLAND        414700.0\n",
              "NEAR BAY      233800.0\n",
              "NEAR OCEAN    229450.0\n",
              "Name: median_house_value, dtype: float64"
            ]
          },
          "metadata": {},
          "execution_count": 42
        }
      ]
    },
    {
      "cell_type": "markdown",
      "source": [
        "Implement the following models on the California House Pricing Dataset and determine the values of R2 score, the area under roc curve and root mean squared error for the test set.\n",
        "\n",
        "a. Linear Regression with Polynomial Features\n",
        "\n",
        "b. Random Forest Regressor **bold text**"
      ],
      "metadata": {
        "id": "X2sJ-Q_m2-1Z"
      }
    },
    {
      "cell_type": "markdown",
      "source": [
        "***Preparing the data***\n",
        "\n",
        "\n",
        "data.drop(['Cabin'],inplace=True,axis=1)\n",
        "data[\"Embarked\"].fillna(data['Embarked'].mode()[0],inplace=True)\n",
        "data['Age']=data['Age'].fillna(data['Age'].mean())\n",
        "\n",
        "\n",
        "\n",
        "sex_df = pd.get_dummies(data['Sex'],drop_first=True)\n",
        "embark_df = pd.get_dummies(data['Embarked'],drop_first=True)\n",
        "data.drop(['Sex','PassengerId','Embarked','Name','Ticket'],axis=1,inplace=True)\n",
        "data = pd.concat([data,sex_df,embark_df],axis=1)"
      ],
      "metadata": {
        "id": "zLesNRY23EEG"
      }
    },
    {
      "cell_type": "code",
      "source": [
        "# checking for null values\n",
        "data.isnull().mean() * 100"
      ],
      "metadata": {
        "colab": {
          "base_uri": "https://localhost:8080/"
        },
        "id": "xYYDyLkU3Lc-",
        "outputId": "5020bba3-d09d-407b-9eb9-bbe97b7c8844"
      },
      "execution_count": null,
      "outputs": [
        {
          "output_type": "execute_result",
          "data": {
            "text/plain": [
              "longitude                      0.000000\n",
              "latitude                       0.000000\n",
              "housing_median_age             0.000000\n",
              "total_rooms                    0.000000\n",
              "total_bedrooms                 1.002907\n",
              "population                     0.000000\n",
              "households                     0.000000\n",
              "median_income                  0.000000\n",
              "median_house_value             0.000000\n",
              "ocean_proximity                0.000000\n",
              "diff_income_and_house_value    0.000000\n",
              "dtype: float64"
            ]
          },
          "metadata": {},
          "execution_count": 43
        }
      ]
    },
    {
      "cell_type": "code",
      "source": [
        "# handling null values in total_bedrooms with the most frequent value in respective column\n",
        "data[\"total_bedrooms\"].fillna(data['total_bedrooms'].mode()[0],inplace=True)\n"
      ],
      "metadata": {
        "id": "04uIv8o13TDD"
      },
      "execution_count": null,
      "outputs": []
    },
    {
      "cell_type": "code",
      "source": [
        "#checking the null values handled or not\n",
        "data[\"total_bedrooms\"].isnull().mean() * 100"
      ],
      "metadata": {
        "colab": {
          "base_uri": "https://localhost:8080/"
        },
        "id": "K8t1JA6A3fHQ",
        "outputId": "1b4489f2-dd59-452e-fdc3-7bd8bd92316d"
      },
      "execution_count": null,
      "outputs": [
        {
          "output_type": "execute_result",
          "data": {
            "text/plain": [
              "0.0"
            ]
          },
          "metadata": {},
          "execution_count": 45
        }
      ]
    },
    {
      "cell_type": "code",
      "source": [
        "data.info()"
      ],
      "metadata": {
        "colab": {
          "base_uri": "https://localhost:8080/"
        },
        "id": "xJAlJq9T3rtj",
        "outputId": "96246deb-3923-4fe9-c6b6-d929cef610e8"
      },
      "execution_count": null,
      "outputs": [
        {
          "output_type": "stream",
          "name": "stdout",
          "text": [
            "<class 'pandas.core.frame.DataFrame'>\n",
            "Int64Index: 20640 entries, 4861 to 9188\n",
            "Data columns (total 11 columns):\n",
            " #   Column                       Non-Null Count  Dtype  \n",
            "---  ------                       --------------  -----  \n",
            " 0   longitude                    20640 non-null  float64\n",
            " 1   latitude                     20640 non-null  float64\n",
            " 2   housing_median_age           20640 non-null  float64\n",
            " 3   total_rooms                  20640 non-null  float64\n",
            " 4   total_bedrooms               20640 non-null  float64\n",
            " 5   population                   20640 non-null  float64\n",
            " 6   households                   20640 non-null  float64\n",
            " 7   median_income                20640 non-null  float64\n",
            " 8   median_house_value           20640 non-null  float64\n",
            " 9   ocean_proximity              20640 non-null  object \n",
            " 10  diff_income_and_house_value  20640 non-null  float64\n",
            "dtypes: float64(10), object(1)\n",
            "memory usage: 1.9+ MB\n"
          ]
        }
      ]
    },
    {
      "cell_type": "code",
      "source": [
        "data['ocean_proximity'].unique()"
      ],
      "metadata": {
        "colab": {
          "base_uri": "https://localhost:8080/"
        },
        "id": "AYIy_Kjj3vrs",
        "outputId": "5439daa1-3852-4efd-9130-87208532d223"
      },
      "execution_count": null,
      "outputs": [
        {
          "output_type": "execute_result",
          "data": {
            "text/plain": [
              "array(['<1H OCEAN', 'INLAND', 'NEAR OCEAN', 'NEAR BAY', 'ISLAND'],\n",
              "      dtype=object)"
            ]
          },
          "metadata": {},
          "execution_count": 47
        }
      ]
    },
    {
      "cell_type": "code",
      "source": [
        "#we need to convert categorical values by label encoding\n",
        "# there are more than two categories, we have to use onehot encoding\n",
        "data['ocean_proximity'].value_counts()\n",
        "ocean_prox_df = pd.get_dummies(data['ocean_proximity'],drop_first=True)\n",
        "ocean_prox_df.head()\n"
      ],
      "metadata": {
        "colab": {
          "base_uri": "https://localhost:8080/",
          "height": 206
        },
        "id": "1GPkiP783x1k",
        "outputId": "82c7641e-0343-4590-ef46-7c933f464b7e"
      },
      "execution_count": null,
      "outputs": [
        {
          "output_type": "execute_result",
          "data": {
            "text/plain": [
              "       INLAND  ISLAND  NEAR BAY  NEAR OCEAN\n",
              "4861        0       0         0           0\n",
              "6688        1       0         0           0\n",
              "16642       0       0         0           1\n",
              "15661       0       0         1           0\n",
              "15652       0       0         1           0"
            ],
            "text/html": [
              "\n",
              "  <div id=\"df-8fae3459-50b2-4763-b8a5-83b8d5253810\">\n",
              "    <div class=\"colab-df-container\">\n",
              "      <div>\n",
              "<style scoped>\n",
              "    .dataframe tbody tr th:only-of-type {\n",
              "        vertical-align: middle;\n",
              "    }\n",
              "\n",
              "    .dataframe tbody tr th {\n",
              "        vertical-align: top;\n",
              "    }\n",
              "\n",
              "    .dataframe thead th {\n",
              "        text-align: right;\n",
              "    }\n",
              "</style>\n",
              "<table border=\"1\" class=\"dataframe\">\n",
              "  <thead>\n",
              "    <tr style=\"text-align: right;\">\n",
              "      <th></th>\n",
              "      <th>INLAND</th>\n",
              "      <th>ISLAND</th>\n",
              "      <th>NEAR BAY</th>\n",
              "      <th>NEAR OCEAN</th>\n",
              "    </tr>\n",
              "  </thead>\n",
              "  <tbody>\n",
              "    <tr>\n",
              "      <th>4861</th>\n",
              "      <td>0</td>\n",
              "      <td>0</td>\n",
              "      <td>0</td>\n",
              "      <td>0</td>\n",
              "    </tr>\n",
              "    <tr>\n",
              "      <th>6688</th>\n",
              "      <td>1</td>\n",
              "      <td>0</td>\n",
              "      <td>0</td>\n",
              "      <td>0</td>\n",
              "    </tr>\n",
              "    <tr>\n",
              "      <th>16642</th>\n",
              "      <td>0</td>\n",
              "      <td>0</td>\n",
              "      <td>0</td>\n",
              "      <td>1</td>\n",
              "    </tr>\n",
              "    <tr>\n",
              "      <th>15661</th>\n",
              "      <td>0</td>\n",
              "      <td>0</td>\n",
              "      <td>1</td>\n",
              "      <td>0</td>\n",
              "    </tr>\n",
              "    <tr>\n",
              "      <th>15652</th>\n",
              "      <td>0</td>\n",
              "      <td>0</td>\n",
              "      <td>1</td>\n",
              "      <td>0</td>\n",
              "    </tr>\n",
              "  </tbody>\n",
              "</table>\n",
              "</div>\n",
              "      <button class=\"colab-df-convert\" onclick=\"convertToInteractive('df-8fae3459-50b2-4763-b8a5-83b8d5253810')\"\n",
              "              title=\"Convert this dataframe to an interactive table.\"\n",
              "              style=\"display:none;\">\n",
              "        \n",
              "  <svg xmlns=\"http://www.w3.org/2000/svg\" height=\"24px\"viewBox=\"0 0 24 24\"\n",
              "       width=\"24px\">\n",
              "    <path d=\"M0 0h24v24H0V0z\" fill=\"none\"/>\n",
              "    <path d=\"M18.56 5.44l.94 2.06.94-2.06 2.06-.94-2.06-.94-.94-2.06-.94 2.06-2.06.94zm-11 1L8.5 8.5l.94-2.06 2.06-.94-2.06-.94L8.5 2.5l-.94 2.06-2.06.94zm10 10l.94 2.06.94-2.06 2.06-.94-2.06-.94-.94-2.06-.94 2.06-2.06.94z\"/><path d=\"M17.41 7.96l-1.37-1.37c-.4-.4-.92-.59-1.43-.59-.52 0-1.04.2-1.43.59L10.3 9.45l-7.72 7.72c-.78.78-.78 2.05 0 2.83L4 21.41c.39.39.9.59 1.41.59.51 0 1.02-.2 1.41-.59l7.78-7.78 2.81-2.81c.8-.78.8-2.07 0-2.86zM5.41 20L4 18.59l7.72-7.72 1.47 1.35L5.41 20z\"/>\n",
              "  </svg>\n",
              "      </button>\n",
              "      \n",
              "  <style>\n",
              "    .colab-df-container {\n",
              "      display:flex;\n",
              "      flex-wrap:wrap;\n",
              "      gap: 12px;\n",
              "    }\n",
              "\n",
              "    .colab-df-convert {\n",
              "      background-color: #E8F0FE;\n",
              "      border: none;\n",
              "      border-radius: 50%;\n",
              "      cursor: pointer;\n",
              "      display: none;\n",
              "      fill: #1967D2;\n",
              "      height: 32px;\n",
              "      padding: 0 0 0 0;\n",
              "      width: 32px;\n",
              "    }\n",
              "\n",
              "    .colab-df-convert:hover {\n",
              "      background-color: #E2EBFA;\n",
              "      box-shadow: 0px 1px 2px rgba(60, 64, 67, 0.3), 0px 1px 3px 1px rgba(60, 64, 67, 0.15);\n",
              "      fill: #174EA6;\n",
              "    }\n",
              "\n",
              "    [theme=dark] .colab-df-convert {\n",
              "      background-color: #3B4455;\n",
              "      fill: #D2E3FC;\n",
              "    }\n",
              "\n",
              "    [theme=dark] .colab-df-convert:hover {\n",
              "      background-color: #434B5C;\n",
              "      box-shadow: 0px 1px 3px 1px rgba(0, 0, 0, 0.15);\n",
              "      filter: drop-shadow(0px 1px 2px rgba(0, 0, 0, 0.3));\n",
              "      fill: #FFFFFF;\n",
              "    }\n",
              "  </style>\n",
              "\n",
              "      <script>\n",
              "        const buttonEl =\n",
              "          document.querySelector('#df-8fae3459-50b2-4763-b8a5-83b8d5253810 button.colab-df-convert');\n",
              "        buttonEl.style.display =\n",
              "          google.colab.kernel.accessAllowed ? 'block' : 'none';\n",
              "\n",
              "        async function convertToInteractive(key) {\n",
              "          const element = document.querySelector('#df-8fae3459-50b2-4763-b8a5-83b8d5253810');\n",
              "          const dataTable =\n",
              "            await google.colab.kernel.invokeFunction('convertToInteractive',\n",
              "                                                     [key], {});\n",
              "          if (!dataTable) return;\n",
              "\n",
              "          const docLinkHtml = 'Like what you see? Visit the ' +\n",
              "            '<a target=\"_blank\" href=https://colab.research.google.com/notebooks/data_table.ipynb>data table notebook</a>'\n",
              "            + ' to learn more about interactive tables.';\n",
              "          element.innerHTML = '';\n",
              "          dataTable['output_type'] = 'display_data';\n",
              "          await google.colab.output.renderOutput(dataTable, element);\n",
              "          const docLink = document.createElement('div');\n",
              "          docLink.innerHTML = docLinkHtml;\n",
              "          element.appendChild(docLink);\n",
              "        }\n",
              "      </script>\n",
              "    </div>\n",
              "  </div>\n",
              "  "
            ]
          },
          "metadata": {},
          "execution_count": 49
        }
      ]
    },
    {
      "cell_type": "code",
      "source": [
        "old_data = data.copy()\n",
        "data.drop(['ocean_proximity','longitude','latitude','diff_income_and_house_value'],axis=1,inplace=True)\n",
        "data.head()"
      ],
      "metadata": {
        "colab": {
          "base_uri": "https://localhost:8080/",
          "height": 206
        },
        "id": "tZelTeoS335z",
        "outputId": "2a593007-262d-4ab6-eb6b-c8846273c0e3"
      },
      "execution_count": null,
      "outputs": [
        {
          "output_type": "execute_result",
          "data": {
            "text/plain": [
              "       housing_median_age  total_rooms  total_bedrooms  population  \\\n",
              "4861                 29.0        515.0           229.0      2690.0   \n",
              "6688                 28.0        238.0            58.0       142.0   \n",
              "16642                19.0       1540.0           715.0      1799.0   \n",
              "15661                27.0       1728.0           884.0      1211.0   \n",
              "15652                52.0       3260.0          1535.0      3260.0   \n",
              "\n",
              "       households  median_income  median_house_value  \n",
              "4861        217.0         0.4999            500001.0  \n",
              "6688         31.0         0.4999            500001.0  \n",
              "16642       635.0         0.7025            500001.0  \n",
              "15661       752.0         0.8543            500001.0  \n",
              "15652      1457.0         0.9000            500001.0  "
            ],
            "text/html": [
              "\n",
              "  <div id=\"df-39fe3c6f-a24a-4889-b4f3-e7dc1beb5dd7\">\n",
              "    <div class=\"colab-df-container\">\n",
              "      <div>\n",
              "<style scoped>\n",
              "    .dataframe tbody tr th:only-of-type {\n",
              "        vertical-align: middle;\n",
              "    }\n",
              "\n",
              "    .dataframe tbody tr th {\n",
              "        vertical-align: top;\n",
              "    }\n",
              "\n",
              "    .dataframe thead th {\n",
              "        text-align: right;\n",
              "    }\n",
              "</style>\n",
              "<table border=\"1\" class=\"dataframe\">\n",
              "  <thead>\n",
              "    <tr style=\"text-align: right;\">\n",
              "      <th></th>\n",
              "      <th>housing_median_age</th>\n",
              "      <th>total_rooms</th>\n",
              "      <th>total_bedrooms</th>\n",
              "      <th>population</th>\n",
              "      <th>households</th>\n",
              "      <th>median_income</th>\n",
              "      <th>median_house_value</th>\n",
              "    </tr>\n",
              "  </thead>\n",
              "  <tbody>\n",
              "    <tr>\n",
              "      <th>4861</th>\n",
              "      <td>29.0</td>\n",
              "      <td>515.0</td>\n",
              "      <td>229.0</td>\n",
              "      <td>2690.0</td>\n",
              "      <td>217.0</td>\n",
              "      <td>0.4999</td>\n",
              "      <td>500001.0</td>\n",
              "    </tr>\n",
              "    <tr>\n",
              "      <th>6688</th>\n",
              "      <td>28.0</td>\n",
              "      <td>238.0</td>\n",
              "      <td>58.0</td>\n",
              "      <td>142.0</td>\n",
              "      <td>31.0</td>\n",
              "      <td>0.4999</td>\n",
              "      <td>500001.0</td>\n",
              "    </tr>\n",
              "    <tr>\n",
              "      <th>16642</th>\n",
              "      <td>19.0</td>\n",
              "      <td>1540.0</td>\n",
              "      <td>715.0</td>\n",
              "      <td>1799.0</td>\n",
              "      <td>635.0</td>\n",
              "      <td>0.7025</td>\n",
              "      <td>500001.0</td>\n",
              "    </tr>\n",
              "    <tr>\n",
              "      <th>15661</th>\n",
              "      <td>27.0</td>\n",
              "      <td>1728.0</td>\n",
              "      <td>884.0</td>\n",
              "      <td>1211.0</td>\n",
              "      <td>752.0</td>\n",
              "      <td>0.8543</td>\n",
              "      <td>500001.0</td>\n",
              "    </tr>\n",
              "    <tr>\n",
              "      <th>15652</th>\n",
              "      <td>52.0</td>\n",
              "      <td>3260.0</td>\n",
              "      <td>1535.0</td>\n",
              "      <td>3260.0</td>\n",
              "      <td>1457.0</td>\n",
              "      <td>0.9000</td>\n",
              "      <td>500001.0</td>\n",
              "    </tr>\n",
              "  </tbody>\n",
              "</table>\n",
              "</div>\n",
              "      <button class=\"colab-df-convert\" onclick=\"convertToInteractive('df-39fe3c6f-a24a-4889-b4f3-e7dc1beb5dd7')\"\n",
              "              title=\"Convert this dataframe to an interactive table.\"\n",
              "              style=\"display:none;\">\n",
              "        \n",
              "  <svg xmlns=\"http://www.w3.org/2000/svg\" height=\"24px\"viewBox=\"0 0 24 24\"\n",
              "       width=\"24px\">\n",
              "    <path d=\"M0 0h24v24H0V0z\" fill=\"none\"/>\n",
              "    <path d=\"M18.56 5.44l.94 2.06.94-2.06 2.06-.94-2.06-.94-.94-2.06-.94 2.06-2.06.94zm-11 1L8.5 8.5l.94-2.06 2.06-.94-2.06-.94L8.5 2.5l-.94 2.06-2.06.94zm10 10l.94 2.06.94-2.06 2.06-.94-2.06-.94-.94-2.06-.94 2.06-2.06.94z\"/><path d=\"M17.41 7.96l-1.37-1.37c-.4-.4-.92-.59-1.43-.59-.52 0-1.04.2-1.43.59L10.3 9.45l-7.72 7.72c-.78.78-.78 2.05 0 2.83L4 21.41c.39.39.9.59 1.41.59.51 0 1.02-.2 1.41-.59l7.78-7.78 2.81-2.81c.8-.78.8-2.07 0-2.86zM5.41 20L4 18.59l7.72-7.72 1.47 1.35L5.41 20z\"/>\n",
              "  </svg>\n",
              "      </button>\n",
              "      \n",
              "  <style>\n",
              "    .colab-df-container {\n",
              "      display:flex;\n",
              "      flex-wrap:wrap;\n",
              "      gap: 12px;\n",
              "    }\n",
              "\n",
              "    .colab-df-convert {\n",
              "      background-color: #E8F0FE;\n",
              "      border: none;\n",
              "      border-radius: 50%;\n",
              "      cursor: pointer;\n",
              "      display: none;\n",
              "      fill: #1967D2;\n",
              "      height: 32px;\n",
              "      padding: 0 0 0 0;\n",
              "      width: 32px;\n",
              "    }\n",
              "\n",
              "    .colab-df-convert:hover {\n",
              "      background-color: #E2EBFA;\n",
              "      box-shadow: 0px 1px 2px rgba(60, 64, 67, 0.3), 0px 1px 3px 1px rgba(60, 64, 67, 0.15);\n",
              "      fill: #174EA6;\n",
              "    }\n",
              "\n",
              "    [theme=dark] .colab-df-convert {\n",
              "      background-color: #3B4455;\n",
              "      fill: #D2E3FC;\n",
              "    }\n",
              "\n",
              "    [theme=dark] .colab-df-convert:hover {\n",
              "      background-color: #434B5C;\n",
              "      box-shadow: 0px 1px 3px 1px rgba(0, 0, 0, 0.15);\n",
              "      filter: drop-shadow(0px 1px 2px rgba(0, 0, 0, 0.3));\n",
              "      fill: #FFFFFF;\n",
              "    }\n",
              "  </style>\n",
              "\n",
              "      <script>\n",
              "        const buttonEl =\n",
              "          document.querySelector('#df-39fe3c6f-a24a-4889-b4f3-e7dc1beb5dd7 button.colab-df-convert');\n",
              "        buttonEl.style.display =\n",
              "          google.colab.kernel.accessAllowed ? 'block' : 'none';\n",
              "\n",
              "        async function convertToInteractive(key) {\n",
              "          const element = document.querySelector('#df-39fe3c6f-a24a-4889-b4f3-e7dc1beb5dd7');\n",
              "          const dataTable =\n",
              "            await google.colab.kernel.invokeFunction('convertToInteractive',\n",
              "                                                     [key], {});\n",
              "          if (!dataTable) return;\n",
              "\n",
              "          const docLinkHtml = 'Like what you see? Visit the ' +\n",
              "            '<a target=\"_blank\" href=https://colab.research.google.com/notebooks/data_table.ipynb>data table notebook</a>'\n",
              "            + ' to learn more about interactive tables.';\n",
              "          element.innerHTML = '';\n",
              "          dataTable['output_type'] = 'display_data';\n",
              "          await google.colab.output.renderOutput(dataTable, element);\n",
              "          const docLink = document.createElement('div');\n",
              "          docLink.innerHTML = docLinkHtml;\n",
              "          element.appendChild(docLink);\n",
              "        }\n",
              "      </script>\n",
              "    </div>\n",
              "  </div>\n",
              "  "
            ]
          },
          "metadata": {},
          "execution_count": 50
        }
      ]
    },
    {
      "cell_type": "code",
      "source": [
        "data = pd.concat([data,ocean_prox_df],axis=1)"
      ],
      "metadata": {
        "id": "iqFJAwsz35du"
      },
      "execution_count": null,
      "outputs": []
    },
    {
      "cell_type": "code",
      "source": [
        "data.head()\n"
      ],
      "metadata": {
        "colab": {
          "base_uri": "https://localhost:8080/",
          "height": 206
        },
        "id": "dv4GfGlc38OL",
        "outputId": "38e2d081-9369-48e2-c192-c90752ac8073"
      },
      "execution_count": null,
      "outputs": [
        {
          "output_type": "execute_result",
          "data": {
            "text/plain": [
              "       housing_median_age  total_rooms  total_bedrooms  population  \\\n",
              "4861                 29.0        515.0           229.0      2690.0   \n",
              "6688                 28.0        238.0            58.0       142.0   \n",
              "16642                19.0       1540.0           715.0      1799.0   \n",
              "15661                27.0       1728.0           884.0      1211.0   \n",
              "15652                52.0       3260.0          1535.0      3260.0   \n",
              "\n",
              "       households  median_income  median_house_value  INLAND  ISLAND  \\\n",
              "4861        217.0         0.4999            500001.0       0       0   \n",
              "6688         31.0         0.4999            500001.0       1       0   \n",
              "16642       635.0         0.7025            500001.0       0       0   \n",
              "15661       752.0         0.8543            500001.0       0       0   \n",
              "15652      1457.0         0.9000            500001.0       0       0   \n",
              "\n",
              "       NEAR BAY  NEAR OCEAN  \n",
              "4861          0           0  \n",
              "6688          0           0  \n",
              "16642         0           1  \n",
              "15661         1           0  \n",
              "15652         1           0  "
            ],
            "text/html": [
              "\n",
              "  <div id=\"df-f2c875b1-beb4-40ed-ad73-a886f6f5f5c8\">\n",
              "    <div class=\"colab-df-container\">\n",
              "      <div>\n",
              "<style scoped>\n",
              "    .dataframe tbody tr th:only-of-type {\n",
              "        vertical-align: middle;\n",
              "    }\n",
              "\n",
              "    .dataframe tbody tr th {\n",
              "        vertical-align: top;\n",
              "    }\n",
              "\n",
              "    .dataframe thead th {\n",
              "        text-align: right;\n",
              "    }\n",
              "</style>\n",
              "<table border=\"1\" class=\"dataframe\">\n",
              "  <thead>\n",
              "    <tr style=\"text-align: right;\">\n",
              "      <th></th>\n",
              "      <th>housing_median_age</th>\n",
              "      <th>total_rooms</th>\n",
              "      <th>total_bedrooms</th>\n",
              "      <th>population</th>\n",
              "      <th>households</th>\n",
              "      <th>median_income</th>\n",
              "      <th>median_house_value</th>\n",
              "      <th>INLAND</th>\n",
              "      <th>ISLAND</th>\n",
              "      <th>NEAR BAY</th>\n",
              "      <th>NEAR OCEAN</th>\n",
              "    </tr>\n",
              "  </thead>\n",
              "  <tbody>\n",
              "    <tr>\n",
              "      <th>4861</th>\n",
              "      <td>29.0</td>\n",
              "      <td>515.0</td>\n",
              "      <td>229.0</td>\n",
              "      <td>2690.0</td>\n",
              "      <td>217.0</td>\n",
              "      <td>0.4999</td>\n",
              "      <td>500001.0</td>\n",
              "      <td>0</td>\n",
              "      <td>0</td>\n",
              "      <td>0</td>\n",
              "      <td>0</td>\n",
              "    </tr>\n",
              "    <tr>\n",
              "      <th>6688</th>\n",
              "      <td>28.0</td>\n",
              "      <td>238.0</td>\n",
              "      <td>58.0</td>\n",
              "      <td>142.0</td>\n",
              "      <td>31.0</td>\n",
              "      <td>0.4999</td>\n",
              "      <td>500001.0</td>\n",
              "      <td>1</td>\n",
              "      <td>0</td>\n",
              "      <td>0</td>\n",
              "      <td>0</td>\n",
              "    </tr>\n",
              "    <tr>\n",
              "      <th>16642</th>\n",
              "      <td>19.0</td>\n",
              "      <td>1540.0</td>\n",
              "      <td>715.0</td>\n",
              "      <td>1799.0</td>\n",
              "      <td>635.0</td>\n",
              "      <td>0.7025</td>\n",
              "      <td>500001.0</td>\n",
              "      <td>0</td>\n",
              "      <td>0</td>\n",
              "      <td>0</td>\n",
              "      <td>1</td>\n",
              "    </tr>\n",
              "    <tr>\n",
              "      <th>15661</th>\n",
              "      <td>27.0</td>\n",
              "      <td>1728.0</td>\n",
              "      <td>884.0</td>\n",
              "      <td>1211.0</td>\n",
              "      <td>752.0</td>\n",
              "      <td>0.8543</td>\n",
              "      <td>500001.0</td>\n",
              "      <td>0</td>\n",
              "      <td>0</td>\n",
              "      <td>1</td>\n",
              "      <td>0</td>\n",
              "    </tr>\n",
              "    <tr>\n",
              "      <th>15652</th>\n",
              "      <td>52.0</td>\n",
              "      <td>3260.0</td>\n",
              "      <td>1535.0</td>\n",
              "      <td>3260.0</td>\n",
              "      <td>1457.0</td>\n",
              "      <td>0.9000</td>\n",
              "      <td>500001.0</td>\n",
              "      <td>0</td>\n",
              "      <td>0</td>\n",
              "      <td>1</td>\n",
              "      <td>0</td>\n",
              "    </tr>\n",
              "  </tbody>\n",
              "</table>\n",
              "</div>\n",
              "      <button class=\"colab-df-convert\" onclick=\"convertToInteractive('df-f2c875b1-beb4-40ed-ad73-a886f6f5f5c8')\"\n",
              "              title=\"Convert this dataframe to an interactive table.\"\n",
              "              style=\"display:none;\">\n",
              "        \n",
              "  <svg xmlns=\"http://www.w3.org/2000/svg\" height=\"24px\"viewBox=\"0 0 24 24\"\n",
              "       width=\"24px\">\n",
              "    <path d=\"M0 0h24v24H0V0z\" fill=\"none\"/>\n",
              "    <path d=\"M18.56 5.44l.94 2.06.94-2.06 2.06-.94-2.06-.94-.94-2.06-.94 2.06-2.06.94zm-11 1L8.5 8.5l.94-2.06 2.06-.94-2.06-.94L8.5 2.5l-.94 2.06-2.06.94zm10 10l.94 2.06.94-2.06 2.06-.94-2.06-.94-.94-2.06-.94 2.06-2.06.94z\"/><path d=\"M17.41 7.96l-1.37-1.37c-.4-.4-.92-.59-1.43-.59-.52 0-1.04.2-1.43.59L10.3 9.45l-7.72 7.72c-.78.78-.78 2.05 0 2.83L4 21.41c.39.39.9.59 1.41.59.51 0 1.02-.2 1.41-.59l7.78-7.78 2.81-2.81c.8-.78.8-2.07 0-2.86zM5.41 20L4 18.59l7.72-7.72 1.47 1.35L5.41 20z\"/>\n",
              "  </svg>\n",
              "      </button>\n",
              "      \n",
              "  <style>\n",
              "    .colab-df-container {\n",
              "      display:flex;\n",
              "      flex-wrap:wrap;\n",
              "      gap: 12px;\n",
              "    }\n",
              "\n",
              "    .colab-df-convert {\n",
              "      background-color: #E8F0FE;\n",
              "      border: none;\n",
              "      border-radius: 50%;\n",
              "      cursor: pointer;\n",
              "      display: none;\n",
              "      fill: #1967D2;\n",
              "      height: 32px;\n",
              "      padding: 0 0 0 0;\n",
              "      width: 32px;\n",
              "    }\n",
              "\n",
              "    .colab-df-convert:hover {\n",
              "      background-color: #E2EBFA;\n",
              "      box-shadow: 0px 1px 2px rgba(60, 64, 67, 0.3), 0px 1px 3px 1px rgba(60, 64, 67, 0.15);\n",
              "      fill: #174EA6;\n",
              "    }\n",
              "\n",
              "    [theme=dark] .colab-df-convert {\n",
              "      background-color: #3B4455;\n",
              "      fill: #D2E3FC;\n",
              "    }\n",
              "\n",
              "    [theme=dark] .colab-df-convert:hover {\n",
              "      background-color: #434B5C;\n",
              "      box-shadow: 0px 1px 3px 1px rgba(0, 0, 0, 0.15);\n",
              "      filter: drop-shadow(0px 1px 2px rgba(0, 0, 0, 0.3));\n",
              "      fill: #FFFFFF;\n",
              "    }\n",
              "  </style>\n",
              "\n",
              "      <script>\n",
              "        const buttonEl =\n",
              "          document.querySelector('#df-f2c875b1-beb4-40ed-ad73-a886f6f5f5c8 button.colab-df-convert');\n",
              "        buttonEl.style.display =\n",
              "          google.colab.kernel.accessAllowed ? 'block' : 'none';\n",
              "\n",
              "        async function convertToInteractive(key) {\n",
              "          const element = document.querySelector('#df-f2c875b1-beb4-40ed-ad73-a886f6f5f5c8');\n",
              "          const dataTable =\n",
              "            await google.colab.kernel.invokeFunction('convertToInteractive',\n",
              "                                                     [key], {});\n",
              "          if (!dataTable) return;\n",
              "\n",
              "          const docLinkHtml = 'Like what you see? Visit the ' +\n",
              "            '<a target=\"_blank\" href=https://colab.research.google.com/notebooks/data_table.ipynb>data table notebook</a>'\n",
              "            + ' to learn more about interactive tables.';\n",
              "          element.innerHTML = '';\n",
              "          dataTable['output_type'] = 'display_data';\n",
              "          await google.colab.output.renderOutput(dataTable, element);\n",
              "          const docLink = document.createElement('div');\n",
              "          docLink.innerHTML = docLinkHtml;\n",
              "          element.appendChild(docLink);\n",
              "        }\n",
              "      </script>\n",
              "    </div>\n",
              "  </div>\n",
              "  "
            ]
          },
          "metadata": {},
          "execution_count": 52
        }
      ]
    },
    {
      "cell_type": "markdown",
      "source": [
        "**Split the data**"
      ],
      "metadata": {
        "id": "8MKarDxQ4xtw"
      }
    },
    {
      "cell_type": "code",
      "source": [
        "from sklearn.model_selection import train_test_split\n",
        "# split the data for training and testing\n",
        "X_train, X_test, y_train, y_test = train_test_split(data.drop('median_house_value',axis=1), \n",
        "                                                    data['median_house_value'], test_size=0.30, \n",
        "                                                    random_state=101)"
      ],
      "metadata": {
        "id": "JHpn-boH4zul"
      },
      "execution_count": null,
      "outputs": []
    },
    {
      "cell_type": "markdown",
      "source": [
        " Linear Regression with Polynomial Features"
      ],
      "metadata": {
        "id": "u9P4UvX56l2a"
      }
    },
    {
      "cell_type": "code",
      "source": [
        "from sklearn.linear_model import LinearRegression\n",
        "from sklearn.preprocessing import PolynomialFeatures"
      ],
      "metadata": {
        "id": "87NivtLQ6iUE"
      },
      "execution_count": null,
      "outputs": []
    },
    {
      "cell_type": "code",
      "source": [
        "#model initialization\n",
        "model = LinearRegression()\n"
      ],
      "metadata": {
        "id": "L_FPfdlv6ozM"
      },
      "execution_count": null,
      "outputs": []
    },
    {
      "cell_type": "code",
      "source": [
        "# initializing polynomial featuers\n",
        "poly = PolynomialFeatures(degree=3)\n",
        "#converting features into polyfeatures\n",
        "X_ = poly.fit_transform(X_train)\n",
        "Y_ = poly.fit_transform(y_train.values.reshape(-1,1))\n",
        "# training the model\n",
        "model.fit(X_,Y_)"
      ],
      "metadata": {
        "colab": {
          "base_uri": "https://localhost:8080/"
        },
        "id": "VzyJi4BK6rvk",
        "outputId": "5b4a6868-e3d9-4e86-b92f-017e5b3b11a0"
      },
      "execution_count": null,
      "outputs": [
        {
          "output_type": "execute_result",
          "data": {
            "text/plain": [
              "LinearRegression()"
            ]
          },
          "metadata": {},
          "execution_count": 57
        }
      ]
    },
    {
      "cell_type": "code",
      "source": [
        "#preparing test data for predictions\n",
        "testX = poly.fit_transform(X_test)\n",
        "# predicting the output for test data\n",
        "predicted = model.predict(testX)"
      ],
      "metadata": {
        "id": "sGUrldpE9RtI"
      },
      "execution_count": null,
      "outputs": []
    },
    {
      "cell_type": "code",
      "source": [
        "# expected output for test data\n",
        "expected = poly.fit_transform(y_test.values.reshape(-1,1))"
      ],
      "metadata": {
        "id": "M6aAvK5R9T8v"
      },
      "execution_count": null,
      "outputs": []
    },
    {
      "cell_type": "code",
      "source": [
        "from sklearn.metrics import r2_score\n",
        "r2 = r2_score(expected, predicted)\n",
        "print('r2 score is', r2)"
      ],
      "metadata": {
        "colab": {
          "base_uri": "https://localhost:8080/"
        },
        "id": "6F_qj8Dc9U4y",
        "outputId": "de513477-13e9-4296-b4b9-14eef150fb48"
      },
      "execution_count": null,
      "outputs": [
        {
          "output_type": "stream",
          "name": "stdout",
          "text": [
            "r2 score is 0.5902019363591732\n"
          ]
        }
      ]
    },
    {
      "cell_type": "code",
      "source": [
        "# example of calculate the root mean squared error\n",
        "from sklearn.metrics import mean_squared_error\n",
        "# calculate errors\n",
        "errors = mean_squared_error(expected, predicted, squared=False)\n",
        "# report error\n",
        "print(\"root mean square error is :\",errors)"
      ],
      "metadata": {
        "colab": {
          "base_uri": "https://localhost:8080/"
        },
        "id": "sNYWsFWA9W-e",
        "outputId": "01fb620f-920c-4507-e82f-c797deb65051"
      },
      "execution_count": null,
      "outputs": [
        {
          "output_type": "stream",
          "name": "stdout",
          "text": [
            "root mean square error is : 5978075391531856.0\n"
          ]
        }
      ]
    },
    {
      "cell_type": "markdown",
      "source": [
        "Random Forest Regressor"
      ],
      "metadata": {
        "id": "vno1wgrc_nR0"
      }
    },
    {
      "cell_type": "code",
      "source": [
        "# Fitting Random Forest Regression to the dataset\n",
        "# import the regressor\n",
        "from sklearn.ensemble import RandomForestRegressor\n",
        "  \n",
        " # create regressor object\n",
        "regressor = RandomForestRegressor(n_estimators = 100, random_state = 101)\n",
        "  \n",
        "# fit the regressor with x and y data\n",
        "regressor.fit(X_train, y_train)  "
      ],
      "metadata": {
        "colab": {
          "base_uri": "https://localhost:8080/"
        },
        "id": "J8vqxS44_oCv",
        "outputId": "7d90779a-e887-454b-b3b8-aec8cde00c37"
      },
      "execution_count": null,
      "outputs": [
        {
          "output_type": "execute_result",
          "data": {
            "text/plain": [
              "RandomForestRegressor(random_state=101)"
            ]
          },
          "metadata": {},
          "execution_count": 62
        }
      ]
    },
    {
      "cell_type": "code",
      "source": [
        "# test the output by changing values\n",
        "predicted = regressor.predict(X_test)"
      ],
      "metadata": {
        "id": "fFK0sYnh_suO"
      },
      "execution_count": null,
      "outputs": []
    },
    {
      "cell_type": "code",
      "source": [
        "expected = y_test"
      ],
      "metadata": {
        "id": "U83t0SfV_vDq"
      },
      "execution_count": null,
      "outputs": []
    },
    {
      "cell_type": "code",
      "source": [
        "from sklearn.metrics import r2_score\n",
        "r2 = r2_score(expected, predicted)\n",
        "print('r2 score is', r2)"
      ],
      "metadata": {
        "colab": {
          "base_uri": "https://localhost:8080/"
        },
        "id": "ppfXLjcu_xVv",
        "outputId": "fd1d6ea5-f3b6-4025-df98-a01f08e4c6a5"
      },
      "execution_count": null,
      "outputs": [
        {
          "output_type": "stream",
          "name": "stdout",
          "text": [
            "r2 score is 0.7084030047252661\n"
          ]
        }
      ]
    },
    {
      "cell_type": "code",
      "source": [
        "# example of calculate the root mean squared error\n",
        "from sklearn.metrics import mean_squared_error\n",
        "# calculate errors\n",
        "errors =mean_squared_error(expected, predicted,squared=False)\n",
        "# report error\n",
        "print(\"root mean square error is :\",errors)"
      ],
      "metadata": {
        "colab": {
          "base_uri": "https://localhost:8080/"
        },
        "id": "GtU2vtKp_zoc",
        "outputId": "3ec4ef9e-363a-445b-8733-533ac399c92e"
      },
      "execution_count": null,
      "outputs": [
        {
          "output_type": "stream",
          "name": "stdout",
          "text": [
            "root mean square error is : 62437.201028530566\n"
          ]
        }
      ]
    }
  ]
}