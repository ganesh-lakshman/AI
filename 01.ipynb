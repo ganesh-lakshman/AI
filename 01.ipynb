{
  "nbformat": 4,
  "nbformat_minor": 0,
  "metadata": {
    "colab": {
      "name": "01.ipynb",
      "provenance": [],
      "collapsed_sections": [],
      "authorship_tag": "ABX9TyPVwoiOUMCXClH1otlQtUR3",
      "include_colab_link": true
    },
    "kernelspec": {
      "name": "python3",
      "display_name": "Python 3"
    },
    "language_info": {
      "name": "python"
    }
  },
  "cells": [
    {
      "cell_type": "markdown",
      "metadata": {
        "id": "view-in-github",
        "colab_type": "text"
      },
      "source": [
        "<a href=\"https://colab.research.google.com/github/ganesh-lakshman/AI/blob/main/01.ipynb\" target=\"_parent\"><img src=\"https://colab.research.google.com/assets/colab-badge.svg\" alt=\"Open In Colab\"/></a>"
      ]
    },
    {
      "cell_type": "code",
      "execution_count": null,
      "metadata": {
        "colab": {
          "base_uri": "https://localhost:8080/"
        },
        "id": "xlye1hBQh-7o",
        "outputId": "a6ac46d6-fe3c-404e-f73d-228f9da66289"
      },
      "outputs": [
        {
          "output_type": "stream",
          "name": "stdout",
          "text": [
            "number of values: 10\n",
            "10 random numbers from a standard normal distribution\n",
            "[-1.10105175 -0.07200559  0.6251509   1.57482643  1.38809643  0.48078522\n",
            " -1.00867729 -0.43624079 -1.95377812 -1.44809343]\n"
          ]
        }
      ],
      "source": [
        "# To generate an array of random numbers from a normal distribution for the array of a given shape.\n",
        "import numpy as np\n",
        "n = int(input(\"number of values: \"))\n",
        "rand_num = np.random.normal(0, 1, n)\n",
        "print(n, \"random numbers from a standard normal distribution\")\n",
        "print(rand_num)"
      ]
    },
    {
      "cell_type": "markdown",
      "source": [
        "Rules of Broadcasting: The size of each dimension is the same, or The size of one of the dimensions is one"
      ],
      "metadata": {
        "id": "LX6ta43-kZju"
      }
    },
    {
      "cell_type": "code",
      "source": [
        "# Implement Arithmetic operations on two arrays (perform broadcasting also.) \n",
        "#Generates an Array A with 0 to 11 in a 3X4 form\n",
        "A = np.arange(0, 12).reshape(3,4)\n",
        "print(A)\n",
        "#Generates an Array B with 0 to 3 in a 1X3 form\n",
        "B  = np.arange(4)\n",
        "print(B)\n",
        "#Performs the addition between A and B\n",
        "c=A+B\n",
        "print(c)\n",
        "#Similarly perform remaining arithmetic operations (Subtraction,multiplication, division )"
      ],
      "metadata": {
        "colab": {
          "base_uri": "https://localhost:8080/"
        },
        "id": "83MfIrn-juWe",
        "outputId": "fbf437f7-309b-47f8-f767-ea2a3c1c5eb4"
      },
      "execution_count": null,
      "outputs": [
        {
          "output_type": "stream",
          "name": "stdout",
          "text": [
            "[[ 0  1  2  3]\n",
            " [ 4  5  6  7]\n",
            " [ 8  9 10 11]]\n",
            "[0 1 2 3]\n",
            "[[ 0  2  4  6]\n",
            " [ 4  6  8 10]\n",
            " [ 8 10 12 14]]\n"
          ]
        }
      ]
    },
    {
      "cell_type": "code",
      "source": [
        "# Find minimum, maximum, mean in a given array. ( in both the axes )\n",
        "\n",
        "arr = np.array([[11, 2, 3],[4, 5, 16],[7, 81, 22]])\n",
        "print(arr)\n",
        "# finding the maximum and minimum element in the array\n",
        "max_element = np.max(arr)\n",
        "min_element = np.min(arr)\n",
        "  \n",
        "# printing the result\n",
        "print('maximum element in the array is:', max_element)\n",
        "print('minimumm element in the array is:', min_element)\n",
        "# finding the maximum and \n",
        "# minimum element in the array\n",
        "max_element_column = np.max(arr, axis = 0)\n",
        "max_element_row = np.max(arr, 1)\n",
        "  \n",
        "min_element_column = np.min(arr, 0)\n",
        "min_element_row = np.amin(arr, 1)\n",
        "  \n",
        "# printing the result\n",
        "print('maximum elements in the columns of the array is:',max_element_column)\n",
        "  \n",
        "print('maximum elements in the rows of the array is:', max_element_row)\n",
        "  \n",
        "print('minimum elements in the columns of the array is:',min_element_column)\n",
        "  \n",
        "print('minimum elements in the rows of the array is:',min_element_row)\n",
        "\n",
        "# mean of the flattened array \n",
        "print(\"\\nmean of arr, axis = None : \", np.mean(arr)) \n",
        "    \n",
        "# mean along the axis = 0 (row-wise) \n",
        "print(\"\\nmean of arr, axis = 0 : \", np.mean(arr, axis = 0)) \n",
        "   \n",
        "# mean along the axis = 1 (Column-wise) \n",
        "print(\"\\nmean of arr, axis = 1 : \", np.mean(arr, axis = 1))"
      ],
      "metadata": {
        "colab": {
          "base_uri": "https://localhost:8080/"
        },
        "id": "beqDMbSiksDc",
        "outputId": "84217e61-1f7c-49a8-9aaf-5a308a8b2401"
      },
      "execution_count": null,
      "outputs": [
        {
          "output_type": "stream",
          "name": "stdout",
          "text": [
            "[[11  2  3]\n",
            " [ 4  5 16]\n",
            " [ 7 81 22]]\n",
            "maximum element in the array is: 81\n",
            "minimumm element in the array is: 2\n",
            "maximum elements in the columns of the array is: [11 81 22]\n",
            "maximum elements in the rows of the array is: [11 16 81]\n",
            "minimum elements in the columns of the array is: [4 2 3]\n",
            "minimum elements in the rows of the array is: [2 4 7]\n",
            "\n",
            "mean of arr, axis = None :  16.77777777777778\n",
            "\n",
            "mean of arr, axis = 0 :  [ 7.33333333 29.33333333 13.66666667]\n",
            "\n",
            "mean of arr, axis = 1 :  [ 5.33333333  8.33333333 36.66666667]\n"
          ]
        }
      ]
    },
    {
      "cell_type": "code",
      "source": [
        "#  Implement np.arange and np.linspace functions.\n",
        "\n",
        "# Prints all numbers from 0 to 10 in steps of 1\n",
        "arr=np.linspace(start = 1, stop = 10, num = 10,dtype = int)\n",
        "print(arr)\n",
        "# difference not same\n",
        "arr=np.linspace(start = 1, stop = 10, num = 3,dtype = int)\n",
        "print(arr)\n",
        "# differnce same\n",
        "arr=np.linspace(start = 1, stop = 10, num = 5,dtype = float)\n",
        "print(arr)\n",
        "# default float\n",
        "arr=np.linspace(start = 0, stop = 1, num = 11)\n",
        "print(arr)\n",
        "# Prints all numbers from 1 to 2 in steps of 0.1\n",
        "print(np.arange(1, 2, 0.1))\n",
        "print(np.arange(1, 1.2, 0.1))\n",
        "\n"
      ],
      "metadata": {
        "colab": {
          "base_uri": "https://localhost:8080/"
        },
        "id": "lVin2S2MmPE9",
        "outputId": "53449bd7-4acf-4de5-db8a-2defc5c99911"
      },
      "execution_count": null,
      "outputs": [
        {
          "output_type": "stream",
          "name": "stdout",
          "text": [
            "[ 1  2  3  4  5  6  7  8  9 10]\n",
            "[ 1  5 10]\n",
            "[ 1.    3.25  5.5   7.75 10.  ]\n",
            "[0.  0.1 0.2 0.3 0.4 0.5 0.6 0.7 0.8 0.9 1. ]\n",
            "[1.  1.1 1.2 1.3 1.4 1.5 1.6 1.7 1.8 1.9]\n",
            "[1.  1.1]\n"
          ]
        }
      ]
    },
    {
      "cell_type": "code",
      "source": [
        "# Create a pandas series from a given list.\n",
        "# import pandas lib. as pd\n",
        "import pandas as pd\n",
        "# Assume l1 is a list of the following words\n",
        "l1 = ['ZERO', 'ONE', 'TWO', 'THREE',\n",
        "\t\t\t'FOUR', 'FIVE', 'SIX','SEVEN','EIGHT','NINE','TEN']\n",
        "print(l1)\n",
        "# create Pandas Series with define indexes\n",
        "x = pd.Series(l1)\n",
        "\n",
        "# print the Series\n",
        "print(x)"
      ],
      "metadata": {
        "colab": {
          "base_uri": "https://localhost:8080/"
        },
        "id": "chXXPMTsoXho",
        "outputId": "6efae4d2-60d5-4311-d8b7-b5b0f7f0b90c"
      },
      "execution_count": null,
      "outputs": [
        {
          "output_type": "stream",
          "name": "stdout",
          "text": [
            "['ZERO', 'ONE', 'TWO', 'THREE', 'FOUR', 'FIVE', 'SIX', 'SEVEN', 'EIGHT', 'NINE', 'TEN']\n",
            "0      ZERO\n",
            "1       ONE\n",
            "2       TWO\n",
            "3     THREE\n",
            "4      FOUR\n",
            "5      FIVE\n",
            "6       SIX\n",
            "7     SEVEN\n",
            "8     EIGHT\n",
            "9      NINE\n",
            "10      TEN\n",
            "dtype: object\n"
          ]
        }
      ]
    },
    {
      "cell_type": "code",
      "source": [
        "# Create pandas series with data and index and display the index values.\n",
        "# import pandas lib. as pd\n",
        "import pandas as pd\n",
        "\n",
        "# create Pandas Series with define indexes\n",
        "x = pd.Series([10, 20, 30, 40, 50], index =['a', 'b', 'c', 'd', 'e'])\n",
        "\n",
        "# print the Series\n",
        "print(x)\n"
      ],
      "metadata": {
        "colab": {
          "base_uri": "https://localhost:8080/"
        },
        "id": "F7Boyt7qoqQ2",
        "outputId": "88d402f2-cbf0-4f56-b047-782b4d3cd9db"
      },
      "execution_count": null,
      "outputs": [
        {
          "output_type": "stream",
          "name": "stdout",
          "text": [
            "a    10\n",
            "b    20\n",
            "c    30\n",
            "d    40\n",
            "e    50\n",
            "dtype: int64\n"
          ]
        }
      ]
    },
    {
      "cell_type": "code",
      "source": [
        "# Create a data frame with columns at least 5 observations\n",
        "\n",
        "# i. select a particular column from the DataFrame\n",
        "\n",
        "# ii. Summarize the data frame and observe the stats of the DataFrame created\n",
        "\n",
        "# iii. Observe the mean and standard deviation of the data frame and print the values.\n",
        "\n",
        "\n",
        "\n",
        "import pandas as pd\n",
        "import numpy as np\n",
        "\n",
        "exam_data  = {'name': ['Anastasia', 'Dima', 'Katherine', 'James', 'Emily'],'score': [12.5, 9, 16.5, np.nan, 9],'attempts': [1, 3, 2, 3, 2],\n",
        "        'qualify': ['yes', 'no', 'yes', 'no', 'no']}\n",
        "labels = ['a', 'b', 'c', 'd', 'e']\n",
        "\n",
        "df = pd.DataFrame(exam_data , index=labels)\n",
        "print(\"Dataset is as follows\")\n",
        "print(df)\n",
        "print(\"Summary of the Dataset\")\n",
        "print(df.info())\n",
        "print(\"Statistical values of numerical attributes\")\n",
        "print(df.describe())\n",
        "meanvalue=df.score.mean()\n",
        "stdvalue=df.score.std()\n",
        "print('mean value of Score is',meanvalue)\n",
        "print('Standard deviation of score is',stdvalue)"
      ],
      "metadata": {
        "colab": {
          "base_uri": "https://localhost:8080/"
        },
        "id": "9JA8c4ApozDg",
        "outputId": "98faebfd-ffc1-44bd-f35e-85f2c84ab3c1"
      },
      "execution_count": null,
      "outputs": [
        {
          "output_type": "stream",
          "name": "stdout",
          "text": [
            "Dataset is as follows\n",
            "        name  score  attempts qualify\n",
            "a  Anastasia   12.5         1     yes\n",
            "b       Dima    9.0         3      no\n",
            "c  Katherine   16.5         2     yes\n",
            "d      James    NaN         3      no\n",
            "e      Emily    9.0         2      no\n",
            "Summary of the Dataset\n",
            "<class 'pandas.core.frame.DataFrame'>\n",
            "Index: 5 entries, a to e\n",
            "Data columns (total 4 columns):\n",
            " #   Column    Non-Null Count  Dtype  \n",
            "---  ------    --------------  -----  \n",
            " 0   name      5 non-null      object \n",
            " 1   score     4 non-null      float64\n",
            " 2   attempts  5 non-null      int64  \n",
            " 3   qualify   5 non-null      object \n",
            "dtypes: float64(1), int64(1), object(2)\n",
            "memory usage: 200.0+ bytes\n",
            "None\n",
            "Statistical values of numerical attributes\n",
            "           score  attempts\n",
            "count   4.000000   5.00000\n",
            "mean   11.750000   2.20000\n",
            "std     3.570714   0.83666\n",
            "min     9.000000   1.00000\n",
            "25%     9.000000   2.00000\n",
            "50%    10.750000   2.00000\n",
            "75%    13.500000   3.00000\n",
            "max    16.500000   3.00000\n",
            "mean value of Score is 11.75\n",
            "Standard deviation of score is 3.570714214271425\n"
          ]
        }
      ]
    },
    {
      "cell_type": "code",
      "source": [
        ""
      ],
      "metadata": {
        "id": "upSD-Mj5pssz"
      },
      "execution_count": null,
      "outputs": []
    }
  ]
}